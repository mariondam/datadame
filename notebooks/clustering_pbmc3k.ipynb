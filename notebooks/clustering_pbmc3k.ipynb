{
 "cells": [
  {
   "cell_type": "markdown",
   "metadata": {},
   "source": [
    "# Clustering on PBMC3k dataset\n",
    "Links: \n",
    "- [The PBMC3k dataset from 10Xgenomics](http://cf.10xgenomics.com/samples/cell-exp/1.1.0/pbmc3k/pbmc3k_filtered_gene_bc_matrices.tar.gz)\n",
    "- [Scanpy tutorial](https://scanpy-tutorials.readthedocs.io/en/latest/pbmc3k.html)\n",
    "- [Tutorial Seurat (R)](https://satijalab.org/seurat/articles/pbmc3k_tutorial.html)\n",
    "\n",
    "## Preprocessing using scanpy"
   ]
  },
  {
   "cell_type": "code",
   "execution_count": null,
   "metadata": {},
   "outputs": [],
   "source": [
    "import numpy as np\n",
    "import pandas as pd\n",
    "import scanpy as sc\n",
    "import matplotlib.pyplot as plt\n",
    "import seaborn as sns\n",
    "\n",
    "from sklearn.decomposition import PCA\n",
    "from sklearn.manifold import TSNE\n",
    "from sklearn.cluster import KMeans\n",
    "from sklearn.metrics import silhouette_score\n"
   ]
  },
  {
   "cell_type": "code",
   "execution_count": null,
   "metadata": {},
   "outputs": [],
   "source": [
    "sc.settings.verbosity = 2             # verbosity: errors (0), warnings (1), info (2), hints (3)\n",
    "sc.logging.print_header()\n",
    "sc.settings.set_figure_params(dpi=80, facecolor='white')"
   ]
  },
  {
   "cell_type": "code",
   "execution_count": null,
   "metadata": {},
   "outputs": [],
   "source": [
    "adata = sc.read_10x_mtx(\n",
    "    'data/filtered_gene_bc_matrices/hg19/',  # the directory with the `.mtx` file\n",
    "    var_names='gene_symbols',                # use gene symbols for the variable names (variables-axis index)\n",
    "    cache=True)                              # write a cache file for faster subsequent reading\n",
    "\n",
    "adata.var_names_make_unique()"
   ]
  },
  {
   "cell_type": "code",
   "execution_count": null,
   "metadata": {},
   "outputs": [],
   "source": [
    "# Filtering\n",
    "sc.pp.filter_cells(adata, min_genes=200)    # keep only cells that have at least 200 genes\n",
    "sc.pp.filter_genes(adata, min_cells=3)      # keep only genes that were found in at least 3 cells\n",
    "\n",
    "adata.var['mt'] = adata.var_names.str.startswith('MT-')  # annotate the group of mitochondrial genes as 'mt'\n",
    "sc.pp.calculate_qc_metrics(adata, qc_vars=['mt'], percent_top=None, log1p=False, inplace=True)  # compute several metrics\n",
    "\n",
    "adata = adata[adata.obs.n_genes_by_counts < 2500, :]  # remove cells with overall less than 2500 gene counts\n",
    "adata = adata[adata.obs.pct_counts_mt < 5, :]  # remove cells with high percentage of mitochondrial genes (poor-quality cells)\n",
    "\n",
    "sc.pp.normalize_total(adata, target_sum=1e4)  # normalize counts to 10,000 counts per cell"
   ]
  },
  {
   "cell_type": "code",
   "execution_count": null,
   "metadata": {},
   "outputs": [],
   "source": [
    "# Extracting highly variable genes\n",
    "sc.pp.log1p(adata)\n",
    "sc.pp.highly_variable_genes(adata, min_mean=0.0125, max_mean=3, min_disp=0.5)  # higly variable genes\n",
    "adata = adata[:, adata.var.highly_variable]\n",
    "\n",
    "# regress out effects and scale each gene to unit variance\n",
    "sc.pp.regress_out(adata, ['total_counts', 'pct_counts_mt'])\n",
    "sc.pp.scale(adata, max_value=10)"
   ]
  },
  {
   "cell_type": "markdown",
   "metadata": {},
   "source": [
    "## Clustering\n",
    "Continue with the data as pandas DataFrame "
   ]
  },
  {
   "cell_type": "code",
   "execution_count": null,
   "metadata": {},
   "outputs": [],
   "source": [
    "genes = sc.get.var_df(adata)\n",
    "cells = sc.get.obs_df(adata)  # not used\n",
    "\n",
    "df = pd.DataFrame(adata.X)\n",
    "df.columns = list(genes.reset_index()['index'])\n",
    "\n",
    "df.head()"
   ]
  },
  {
   "cell_type": "code",
   "execution_count": null,
   "metadata": {},
   "outputs": [],
   "source": [
    "# PCA with 20 components, create explained variance plot\n",
    "pca = PCA(n_components=20)\n",
    "pca.fit(df.T)\n",
    "\n",
    "plt.plot(pca.explained_variance_ratio_)\n",
    "plt.ylabel('Explained Variance')\n",
    "plt.xlabel('Principal Component')\n",
    "plt.title('Explained variance of PCA')\n",
    "plt.show()"
   ]
  },
  {
   "cell_type": "code",
   "execution_count": null,
   "metadata": {},
   "outputs": [],
   "source": [
    "# Continue with 7 components\n",
    "X = pca.components_[:7].T\n",
    "print(X.shape)"
   ]
  },
  {
   "cell_type": "code",
   "execution_count": null,
   "metadata": {},
   "outputs": [],
   "source": [
    "# Embed X in 2D space using t-SNE\n",
    "X_embedded = TSNE().fit_transform(X)"
   ]
  },
  {
   "cell_type": "code",
   "execution_count": null,
   "metadata": {},
   "outputs": [],
   "source": [
    "sns.scatterplot(x = X_embedded[:,0], y = X_embedded[:,1], legend = None, size = 4, color = 'lightgrey')\n",
    "plt.xlabel('t-SNE 1')\n",
    "plt.xticks([])\n",
    "plt.ylabel('t-SNE 2')\n",
    "plt.yticks([])\n",
    "plt.title('De PBMC-cellen in 2D d.m.v. t-SNE')\n",
    "plt.show()"
   ]
  },
  {
   "cell_type": "code",
   "execution_count": null,
   "metadata": {},
   "outputs": [],
   "source": [
    "sscores = []\n",
    "for n_clust in range(2, 12):\n",
    "    cl = KMeans(n_clusters = n_clust, n_init = 10, random_state = 42).fit(X)\n",
    "    cl_labels = cl.labels_\n",
    "    sscores.append(silhouette_score(X, cl_labels))\n",
    "\n",
    "sns.lineplot(x = [i for i in range(2, 12)], y = sscores)\n",
    "plt.xlabel('Aantal clusters')\n",
    "plt.ylabel('Silhouette score')\n",
    "plt.title('Silhouette scores voor verschillende\\naantallen clusters')\n",
    "plt.show()"
   ]
  },
  {
   "cell_type": "code",
   "execution_count": null,
   "metadata": {},
   "outputs": [],
   "source": [
    "cl = KMeans(n_clusters=8, n_init = 10, random_state = 42).fit(X)\n",
    "cl_labels = cl.labels_\n",
    "\n",
    "sns.scatterplot(x = X_embedded[:,0], y = X_embedded[:,1], hue = cl_labels, legend = None, size = 4, palette = 'mako')\n",
    "plt.xlabel('t-SNE 1')\n",
    "plt.xticks([])\n",
    "plt.ylabel('t-SNE 2')\n",
    "plt.yticks([])\n",
    "plt.title('K-Means clustering op de PBMC-cellen')\n",
    "plt.show()"
   ]
  },
  {
   "cell_type": "code",
   "execution_count": null,
   "metadata": {},
   "outputs": [],
   "source": [
    "gene = 'CST3'\n",
    "sns.scatterplot(x = X_embedded[:,0], y = X_embedded[:,1], hue = df[gene], legend = None, size = 4, palette = 'mako_r')\n",
    "plt.xlabel('t-SNE 1')\n",
    "plt.xticks([])\n",
    "plt.ylabel('t-SNE 2')\n",
    "plt.yticks([])\n",
    "plt.title(f'Expressie van het {gene}-gen in de PBMC-cellen')\n",
    "plt.show()"
   ]
  },
  {
   "cell_type": "code",
   "execution_count": null,
   "metadata": {},
   "outputs": [],
   "source": [
    "gene = 'MS4A1' \n",
    "sns.scatterplot(x = X_embedded[:,0], y = X_embedded[:,1], hue = df[gene], legend = None, size = 4, palette = 'mako_r')\n",
    "plt.xlabel('t-SNE 1')\n",
    "plt.xticks([])\n",
    "plt.ylabel('t-SNE 2')\n",
    "plt.yticks([])\n",
    "plt.title(f'Expressie van het {gene}-gen in de PBMC-cellen')\n",
    "plt.show()"
   ]
  },
  {
   "cell_type": "code",
   "execution_count": null,
   "metadata": {},
   "outputs": [],
   "source": [
    "gene = 'GNLY' \n",
    "sns.scatterplot(x = X_embedded[:,0], y = X_embedded[:,1], hue = df[gene], legend = None, size = 4, palette = 'mako_r')\n",
    "plt.xlabel('t-SNE 1')\n",
    "plt.xticks([])\n",
    "plt.ylabel('t-SNE 2')\n",
    "plt.yticks([])\n",
    "plt.title(f'Expressie van het {gene}-gen in de PBMC-cellen')\n",
    "plt.show()"
   ]
  },
  {
   "cell_type": "code",
   "execution_count": null,
   "metadata": {},
   "outputs": [],
   "source": []
  }
 ],
 "metadata": {
  "kernelspec": {
   "display_name": "base",
   "language": "python",
   "name": "python3"
  },
  "language_info": {
   "codemirror_mode": {
    "name": "ipython",
    "version": 3
   },
   "file_extension": ".py",
   "mimetype": "text/x-python",
   "name": "python",
   "nbconvert_exporter": "python",
   "pygments_lexer": "ipython3",
   "version": "3.9.18"
  }
 },
 "nbformat": 4,
 "nbformat_minor": 2
}
