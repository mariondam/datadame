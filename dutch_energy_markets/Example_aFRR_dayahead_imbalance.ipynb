{
 "cells": [
  {
   "cell_type": "markdown",
   "id": "441270a7",
   "metadata": {
    "toc": true
   },
   "source": [
    "# Example notebook: data from Dutch electricity markets\n",
    "\n",
    "- Day ahead electricity prices (per hour) from ENTSOE\n",
    "- aFRR activations and prices (per 15 min) from ENTSOE\n",
    "- Imbalance settlement prices (VerrekenPrijzen, per 15 min) from Tennet\n",
    "- (Current) imbalance (per minute) from Tennet"
   ]
  },
  {
   "cell_type": "code",
   "execution_count": null,
   "id": "e2b0471f",
   "metadata": {},
   "outputs": [],
   "source": [
    "import pandas as pd\n",
    "from entsoe import EntsoePandasClient\n",
    "from get_dutch_energy_market_data import *\n",
    "\n",
    "# entsoe requires a token (which can be requested after creating an account) \n",
    "entsoe_token = 'YOUR_TOKEN_HERE'"
   ]
  },
  {
   "cell_type": "code",
   "execution_count": null,
   "id": "585c094e",
   "metadata": {},
   "outputs": [],
   "source": [
    "# SELECT PERIOD (YYYYMMDD)\n",
    "start_date = '20240401'\n",
    "end_date = '20240405'\n",
    "\n",
    "# Entsoe data\n",
    "client = EntsoePandasClient(api_key=entsoe_token)\n",
    "afrr_df = get_afrr_df(start_date, end_date, client)\n",
    "dayahead_df = get_dayahead_df(start_date, end_date, client)\n",
    "\n",
    "# Tennet data\n",
    "minute_df = get_minute_df(start_date, end_date)\n",
    "vp_df = get_vp_df(start_date, end_date)  # VerrekenPrijzen"
   ]
  },
  {
   "cell_type": "code",
   "execution_count": null,
   "id": "cf77494e",
   "metadata": {},
   "outputs": [],
   "source": [
    "afrr_df.head()"
   ]
  },
  {
   "cell_type": "code",
   "execution_count": null,
   "id": "b0ed02cf",
   "metadata": {},
   "outputs": [],
   "source": [
    "dayahead_df.head()"
   ]
  },
  {
   "cell_type": "code",
   "execution_count": null,
   "id": "6fcd7ff4",
   "metadata": {},
   "outputs": [],
   "source": [
    "vp_df.head()"
   ]
  },
  {
   "cell_type": "code",
   "execution_count": null,
   "id": "14d7d6e3",
   "metadata": {},
   "outputs": [],
   "source": [
    "minute_df.head()"
   ]
  },
  {
   "cell_type": "code",
   "execution_count": null,
   "id": "89222fa9",
   "metadata": {},
   "outputs": [],
   "source": []
  }
 ],
 "metadata": {
  "kernelspec": {
   "display_name": "Python 3.9.13 64-bit",
   "language": "python",
   "name": "python3"
  },
  "language_info": {
   "codemirror_mode": {
    "name": "ipython",
    "version": 3
   },
   "file_extension": ".py",
   "mimetype": "text/x-python",
   "name": "python",
   "nbconvert_exporter": "python",
   "pygments_lexer": "ipython3",
   "version": "3.11.5"
  },
  "toc": {
   "base_numbering": 1,
   "nav_menu": {},
   "number_sections": true,
   "sideBar": true,
   "skip_h1_title": true,
   "title_cell": "Table of Contents",
   "title_sidebar": "Contents",
   "toc_cell": true,
   "toc_position": {},
   "toc_section_display": true,
   "toc_window_display": false
  },
  "vscode": {
   "interpreter": {
    "hash": "3490429b0926c90bd81a5fbcb55ccba362c91622304184585e2e37cd72d84342"
   }
  }
 },
 "nbformat": 4,
 "nbformat_minor": 5
}
